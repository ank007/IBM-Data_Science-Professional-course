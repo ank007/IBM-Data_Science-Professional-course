{
 "cells": [
  {
   "cell_type": "markdown",
   "metadata": {},
   "source": [
    "<H1> This notebook will be used for IBM Data Science Capstone project"
   ]
  },
  {
   "cell_type": "code",
   "execution_count": 54,
   "metadata": {},
   "outputs": [
    {
     "name": "stdout",
     "output_type": "stream",
     "text": [
      "Hello Capstone Project Course!\n"
     ]
    }
   ],
   "source": [
    "import pandas as pd\n",
    "import numpy as np\n",
    "import matplotlib as plt\n",
    "import seaborn as sns\n",
    "print(\"Hello Capstone Project Course!\")"
   ]
  },
  {
   "cell_type": "markdown",
   "metadata": {},
   "source": [
    "<H2> Introduction\n",
    "\n",
    "<H3> Background: </H3>\n",
    "\n",
    "According to cdc.gov (https://www.cdc.gov/injury/features/global-road-safety/index.html), \"Road traffic crashes are a leading cause of death in the United States for people \n",
    "aged 1–54 and the leading cause of non-natural death for healthy U.S. citizens residing or traveling abroad...\n",
    "Each year, 1.35 million people are killed on roadways around the world.\n",
    "Every day, almost 3,700 people are killed globally in road traffic crashes involving cars, buses, motorcycles, bicycles, trucks, or pedestrians. More than half of those \n",
    "killed are pedestrians, motorcyclists, and cyclists.\n",
    "Road traffic injuries are estimated to be the eighth leading cause of death globally for all age groups and the leading cause of death for children and young people 5–29 years \n",
    "of age. More people now die in road traffic crashes than from HIV/AIDS.\"\n",
    "\n",
    "With the increasing number of vehicles that hit the road every year, the number of accidents and fatalities is only expected\n",
    "to increase. The reduction of accidents is hence of immense importance to people, healthcare organizations, private corporations and government bodies across the world to \n",
    "prevent the tragic loss of life, limb and property.\n",
    "The Seattle Police Department maintains a record of all the car collision incidents that occur within its jurisdictional limits, which is updated weekly on its website. \n",
    "An analysis of the car collision dataset may reveal interesting observations and patterns regarding the occurrence of car collisions, such as:\n",
    " <ul class=\"a\">\n",
    " <li>Days of week which are more prone to accidents.</li>\n",
    " <li>Time of the day in which accidents are more likely to occur.</li>\n",
    " <li>Accident prone localities and streets.</li>\n",
    " <li>Whether some areas have a high occurrence of accidents during nighttime.</li>\n",
    " <li>Whether weather conditions affect the occurrence/severity of accidents.</li>\n",
    " <li>Whether road conditions affect the occurrence/severity of accidents.</li>\n",
    "\n",
    "\n",
    "<H3> Audience: </H3>\n",
    "\n",
    "The analysis could be of particular interest to:\n",
    " <ul class=\"a\">\n",
    " <li>Traffic departments and civic agencies who might be looking for ways to reduce the accidents and resulting \n",
    " injuries/fatalities by identifying zones and situations which have a higher incidence of collisions and help them take appropriate measures for the same. </li>\n",
    " <li>Residents, drivers and pedestrians who could be warned about the likelihood of an accident on their travel route based on the location, weather, road conditions, etc.</li>\n",
    "© 2020 GitHub, Inc."
   ]
  },
  {
   "cell_type": "markdown",
   "metadata": {},
   "source": [
    "<H2> Data description </H2>\n",
    "\n",
    "The Data-Collisions.csv dataset has 194673 rows and 38 columns. Each accident has an unique primary and secondary key. Each accident location is uniquely identified through ESRI \n",
    "unique identifiers and geometry fields. Description of the general location of the accident site, type of the address(whether it is an alley/block/intersection), codes identifying\n",
    "the lane/crosswalk are also available in addition to the time and date of the accident.\n",
    "The severity of the accident is denoted by the severity code. The type of collision, the number of people and vehicles involved, total number of injuries, further segregated by \n",
    "serious injuries and fatalities are also available.\n",
    "The role of the driver in the accident, whether it was due to inattention, intoxication, weather/road conditions, speeding, whether right of way was given to pedestrian and \n",
    "whether it involved colliding with a parked car is also available in the dataset.\n",
    "A few more columns are also available in the dataset which do not seem to be very useful and would be dropped for the purpose of the analysis.\n",
    "\n",
    "The dataset can be downloaded at this <a href=\"https://s3.us.cloud-object-storage.appdomain.cloud/cf-courses-data/CognitiveClass/DP0701EN/version-2/Data-Collisions.csv\">link</a>. The metadata can be downloaded <a href=\"https://s3.us.cloud-object-storage.appdomain.cloud/cf-courses-data/CognitiveClass/DP0701EN/version-2/Metadata.pdf\">here</a>\n",
    "\n",
    "The dataset summary can be found below:"
   ]
  },
  {
   "cell_type": "code",
   "execution_count": 55,
   "metadata": {},
   "outputs": [],
   "source": [
    "df=pd.read_csv('Data-Collisions.csv')\n",
    "df_copy=df"
   ]
  },
  {
   "cell_type": "code",
   "execution_count": 56,
   "metadata": {},
   "outputs": [
    {
     "data": {
      "text/plain": [
       "SEVERITYCODE        int64\n",
       "X                 float64\n",
       "Y                 float64\n",
       "OBJECTID            int64\n",
       "INCKEY              int64\n",
       "COLDETKEY           int64\n",
       "REPORTNO           object\n",
       "STATUS             object\n",
       "ADDRTYPE           object\n",
       "INTKEY            float64\n",
       "LOCATION           object\n",
       "EXCEPTRSNCODE      object\n",
       "EXCEPTRSNDESC      object\n",
       "SEVERITYCODE.1      int64\n",
       "SEVERITYDESC       object\n",
       "COLLISIONTYPE      object\n",
       "PERSONCOUNT         int64\n",
       "PEDCOUNT            int64\n",
       "PEDCYLCOUNT         int64\n",
       "VEHCOUNT            int64\n",
       "INCDATE            object\n",
       "INCDTTM            object\n",
       "JUNCTIONTYPE       object\n",
       "SDOT_COLCODE        int64\n",
       "SDOT_COLDESC       object\n",
       "INATTENTIONIND     object\n",
       "UNDERINFL          object\n",
       "WEATHER            object\n",
       "ROADCOND           object\n",
       "LIGHTCOND          object\n",
       "PEDROWNOTGRNT      object\n",
       "SDOTCOLNUM        float64\n",
       "SPEEDING           object\n",
       "ST_COLCODE         object\n",
       "ST_COLDESC         object\n",
       "SEGLANEKEY          int64\n",
       "CROSSWALKKEY        int64\n",
       "HITPARKEDCAR       object\n",
       "dtype: object"
      ]
     },
     "execution_count": 56,
     "metadata": {},
     "output_type": "execute_result"
    }
   ],
   "source": [
    "df.dtypes"
   ]
  },
  {
   "cell_type": "code",
   "execution_count": 57,
   "metadata": {
    "scrolled": true
   },
   "outputs": [
    {
     "name": "stdout",
     "output_type": "stream",
     "text": [
      "<class 'pandas.core.frame.DataFrame'>\n",
      "RangeIndex: 194673 entries, 0 to 194672\n",
      "Data columns (total 38 columns):\n",
      "SEVERITYCODE      194673 non-null int64\n",
      "X                 189339 non-null float64\n",
      "Y                 189339 non-null float64\n",
      "OBJECTID          194673 non-null int64\n",
      "INCKEY            194673 non-null int64\n",
      "COLDETKEY         194673 non-null int64\n",
      "REPORTNO          194673 non-null object\n",
      "STATUS            194673 non-null object\n",
      "ADDRTYPE          192747 non-null object\n",
      "INTKEY            65070 non-null float64\n",
      "LOCATION          191996 non-null object\n",
      "EXCEPTRSNCODE     84811 non-null object\n",
      "EXCEPTRSNDESC     5638 non-null object\n",
      "SEVERITYCODE.1    194673 non-null int64\n",
      "SEVERITYDESC      194673 non-null object\n",
      "COLLISIONTYPE     189769 non-null object\n",
      "PERSONCOUNT       194673 non-null int64\n",
      "PEDCOUNT          194673 non-null int64\n",
      "PEDCYLCOUNT       194673 non-null int64\n",
      "VEHCOUNT          194673 non-null int64\n",
      "INCDATE           194673 non-null object\n",
      "INCDTTM           194673 non-null object\n",
      "JUNCTIONTYPE      188344 non-null object\n",
      "SDOT_COLCODE      194673 non-null int64\n",
      "SDOT_COLDESC      194673 non-null object\n",
      "INATTENTIONIND    29805 non-null object\n",
      "UNDERINFL         189789 non-null object\n",
      "WEATHER           189592 non-null object\n",
      "ROADCOND          189661 non-null object\n",
      "LIGHTCOND         189503 non-null object\n",
      "PEDROWNOTGRNT     4667 non-null object\n",
      "SDOTCOLNUM        114936 non-null float64\n",
      "SPEEDING          9333 non-null object\n",
      "ST_COLCODE        194655 non-null object\n",
      "ST_COLDESC        189769 non-null object\n",
      "SEGLANEKEY        194673 non-null int64\n",
      "CROSSWALKKEY      194673 non-null int64\n",
      "HITPARKEDCAR      194673 non-null object\n",
      "dtypes: float64(4), int64(12), object(22)\n",
      "memory usage: 56.4+ MB\n"
     ]
    }
   ],
   "source": [
    "df.info()"
   ]
  },
  {
   "cell_type": "code",
   "execution_count": 58,
   "metadata": {},
   "outputs": [
    {
     "data": {
      "text/html": [
       "<div>\n",
       "<style scoped>\n",
       "    .dataframe tbody tr th:only-of-type {\n",
       "        vertical-align: middle;\n",
       "    }\n",
       "\n",
       "    .dataframe tbody tr th {\n",
       "        vertical-align: top;\n",
       "    }\n",
       "\n",
       "    .dataframe thead th {\n",
       "        text-align: right;\n",
       "    }\n",
       "</style>\n",
       "<table border=\"1\" class=\"dataframe\">\n",
       "  <thead>\n",
       "    <tr style=\"text-align: right;\">\n",
       "      <th></th>\n",
       "      <th>SEVERITYCODE</th>\n",
       "      <th>X</th>\n",
       "      <th>Y</th>\n",
       "      <th>OBJECTID</th>\n",
       "      <th>INCKEY</th>\n",
       "      <th>COLDETKEY</th>\n",
       "      <th>REPORTNO</th>\n",
       "      <th>STATUS</th>\n",
       "      <th>ADDRTYPE</th>\n",
       "      <th>INTKEY</th>\n",
       "      <th>...</th>\n",
       "      <th>ROADCOND</th>\n",
       "      <th>LIGHTCOND</th>\n",
       "      <th>PEDROWNOTGRNT</th>\n",
       "      <th>SDOTCOLNUM</th>\n",
       "      <th>SPEEDING</th>\n",
       "      <th>ST_COLCODE</th>\n",
       "      <th>ST_COLDESC</th>\n",
       "      <th>SEGLANEKEY</th>\n",
       "      <th>CROSSWALKKEY</th>\n",
       "      <th>HITPARKEDCAR</th>\n",
       "    </tr>\n",
       "  </thead>\n",
       "  <tbody>\n",
       "    <tr>\n",
       "      <th>0</th>\n",
       "      <td>2</td>\n",
       "      <td>-122.323148</td>\n",
       "      <td>47.703140</td>\n",
       "      <td>1</td>\n",
       "      <td>1307</td>\n",
       "      <td>1307</td>\n",
       "      <td>3502005</td>\n",
       "      <td>Matched</td>\n",
       "      <td>Intersection</td>\n",
       "      <td>37475.0</td>\n",
       "      <td>...</td>\n",
       "      <td>Wet</td>\n",
       "      <td>Daylight</td>\n",
       "      <td>NaN</td>\n",
       "      <td>NaN</td>\n",
       "      <td>NaN</td>\n",
       "      <td>10</td>\n",
       "      <td>Entering at angle</td>\n",
       "      <td>0</td>\n",
       "      <td>0</td>\n",
       "      <td>N</td>\n",
       "    </tr>\n",
       "    <tr>\n",
       "      <th>1</th>\n",
       "      <td>1</td>\n",
       "      <td>-122.347294</td>\n",
       "      <td>47.647172</td>\n",
       "      <td>2</td>\n",
       "      <td>52200</td>\n",
       "      <td>52200</td>\n",
       "      <td>2607959</td>\n",
       "      <td>Matched</td>\n",
       "      <td>Block</td>\n",
       "      <td>NaN</td>\n",
       "      <td>...</td>\n",
       "      <td>Wet</td>\n",
       "      <td>Dark - Street Lights On</td>\n",
       "      <td>NaN</td>\n",
       "      <td>6354039.0</td>\n",
       "      <td>NaN</td>\n",
       "      <td>11</td>\n",
       "      <td>From same direction - both going straight - bo...</td>\n",
       "      <td>0</td>\n",
       "      <td>0</td>\n",
       "      <td>N</td>\n",
       "    </tr>\n",
       "    <tr>\n",
       "      <th>2</th>\n",
       "      <td>1</td>\n",
       "      <td>-122.334540</td>\n",
       "      <td>47.607871</td>\n",
       "      <td>3</td>\n",
       "      <td>26700</td>\n",
       "      <td>26700</td>\n",
       "      <td>1482393</td>\n",
       "      <td>Matched</td>\n",
       "      <td>Block</td>\n",
       "      <td>NaN</td>\n",
       "      <td>...</td>\n",
       "      <td>Dry</td>\n",
       "      <td>Daylight</td>\n",
       "      <td>NaN</td>\n",
       "      <td>4323031.0</td>\n",
       "      <td>NaN</td>\n",
       "      <td>32</td>\n",
       "      <td>One parked--one moving</td>\n",
       "      <td>0</td>\n",
       "      <td>0</td>\n",
       "      <td>N</td>\n",
       "    </tr>\n",
       "    <tr>\n",
       "      <th>3</th>\n",
       "      <td>1</td>\n",
       "      <td>-122.334803</td>\n",
       "      <td>47.604803</td>\n",
       "      <td>4</td>\n",
       "      <td>1144</td>\n",
       "      <td>1144</td>\n",
       "      <td>3503937</td>\n",
       "      <td>Matched</td>\n",
       "      <td>Block</td>\n",
       "      <td>NaN</td>\n",
       "      <td>...</td>\n",
       "      <td>Dry</td>\n",
       "      <td>Daylight</td>\n",
       "      <td>NaN</td>\n",
       "      <td>NaN</td>\n",
       "      <td>NaN</td>\n",
       "      <td>23</td>\n",
       "      <td>From same direction - all others</td>\n",
       "      <td>0</td>\n",
       "      <td>0</td>\n",
       "      <td>N</td>\n",
       "    </tr>\n",
       "    <tr>\n",
       "      <th>4</th>\n",
       "      <td>2</td>\n",
       "      <td>-122.306426</td>\n",
       "      <td>47.545739</td>\n",
       "      <td>5</td>\n",
       "      <td>17700</td>\n",
       "      <td>17700</td>\n",
       "      <td>1807429</td>\n",
       "      <td>Matched</td>\n",
       "      <td>Intersection</td>\n",
       "      <td>34387.0</td>\n",
       "      <td>...</td>\n",
       "      <td>Wet</td>\n",
       "      <td>Daylight</td>\n",
       "      <td>NaN</td>\n",
       "      <td>4028032.0</td>\n",
       "      <td>NaN</td>\n",
       "      <td>10</td>\n",
       "      <td>Entering at angle</td>\n",
       "      <td>0</td>\n",
       "      <td>0</td>\n",
       "      <td>N</td>\n",
       "    </tr>\n",
       "  </tbody>\n",
       "</table>\n",
       "<p>5 rows × 38 columns</p>\n",
       "</div>"
      ],
      "text/plain": [
       "   SEVERITYCODE           X          Y  OBJECTID  INCKEY  COLDETKEY REPORTNO  \\\n",
       "0             2 -122.323148  47.703140         1    1307       1307  3502005   \n",
       "1             1 -122.347294  47.647172         2   52200      52200  2607959   \n",
       "2             1 -122.334540  47.607871         3   26700      26700  1482393   \n",
       "3             1 -122.334803  47.604803         4    1144       1144  3503937   \n",
       "4             2 -122.306426  47.545739         5   17700      17700  1807429   \n",
       "\n",
       "    STATUS      ADDRTYPE   INTKEY  ... ROADCOND                LIGHTCOND  \\\n",
       "0  Matched  Intersection  37475.0  ...      Wet                 Daylight   \n",
       "1  Matched         Block      NaN  ...      Wet  Dark - Street Lights On   \n",
       "2  Matched         Block      NaN  ...      Dry                 Daylight   \n",
       "3  Matched         Block      NaN  ...      Dry                 Daylight   \n",
       "4  Matched  Intersection  34387.0  ...      Wet                 Daylight   \n",
       "\n",
       "  PEDROWNOTGRNT  SDOTCOLNUM SPEEDING ST_COLCODE  \\\n",
       "0           NaN         NaN      NaN         10   \n",
       "1           NaN   6354039.0      NaN         11   \n",
       "2           NaN   4323031.0      NaN         32   \n",
       "3           NaN         NaN      NaN         23   \n",
       "4           NaN   4028032.0      NaN         10   \n",
       "\n",
       "                                          ST_COLDESC  SEGLANEKEY  \\\n",
       "0                                  Entering at angle           0   \n",
       "1  From same direction - both going straight - bo...           0   \n",
       "2                             One parked--one moving           0   \n",
       "3                   From same direction - all others           0   \n",
       "4                                  Entering at angle           0   \n",
       "\n",
       "   CROSSWALKKEY  HITPARKEDCAR  \n",
       "0             0             N  \n",
       "1             0             N  \n",
       "2             0             N  \n",
       "3             0             N  \n",
       "4             0             N  \n",
       "\n",
       "[5 rows x 38 columns]"
      ]
     },
     "execution_count": 58,
     "metadata": {},
     "output_type": "execute_result"
    }
   ],
   "source": [
    "df.head()"
   ]
  },
  {
   "cell_type": "code",
   "execution_count": 59,
   "metadata": {},
   "outputs": [
    {
     "data": {
      "text/plain": [
       "<matplotlib.axes._subplots.AxesSubplot at 0x25a84934630>"
      ]
     },
     "execution_count": 59,
     "metadata": {},
     "output_type": "execute_result"
    },
    {
     "data": {
      "image/png": "[encoded data removed]",
      "text/plain": [
       "<Figure size 432x288 with 1 Axes>"
      ]
     },
     "metadata": {
      "needs_background": "light"
     },
     "output_type": "display_data"
    }
   ],
   "source": [
    "df['SEVERITYDESC'].value_counts().plot(kind='bar')\n"
   ]
  },
  {
   "cell_type": "code",
   "execution_count": 60,
   "metadata": {},
   "outputs": [],
   "source": [
    "import datetime as dt\n",
    "df['INCDTTM']=pd.to_datetime(df['INCDTTM'])\n",
    "df['year']=df['INCDTTM'].dt.year\n",
    "df['month']=df['INCDTTM'].dt.month\n",
    "df['hour']=df['INCDTTM'].dt.hour\n",
    "df['dayofweek']=df['INCDTTM'].dt.dayofweek\n",
    "\n"
   ]
  },
  {
   "cell_type": "code",
   "execution_count": 61,
   "metadata": {},
   "outputs": [
    {
     "data": {
      "text/plain": [
       "<matplotlib.axes._subplots.AxesSubplot at 0x25a85613710>"
      ]
     },
     "execution_count": 61,
     "metadata": {},
     "output_type": "execute_result"
    },
    {
     "data": {
      "image/png": "[encoded data removed]",
      "text/plain": [
       "<Figure size 432x288 with 1 Axes>"
      ]
     },
     "metadata": {
      "needs_background": "light"
     },
     "output_type": "display_data"
    }
   ],
   "source": [
    "df['year'].value_counts().sort_index().plot()"
   ]
  },
  {
   "cell_type": "code",
   "execution_count": 62,
   "metadata": {},
   "outputs": [
    {
     "data": {
      "text/plain": [
       "<matplotlib.axes._subplots.AxesSubplot at 0x25a97316470>"
      ]
     },
     "execution_count": 62,
     "metadata": {},
     "output_type": "execute_result"
    },
    {
     "data": {
      "image/png": "[encoded data removed]",
      "text/plain": [
       "<Figure size 432x288 with 1 Axes>"
      ]
     },
     "metadata": {
      "needs_background": "light"
     },
     "output_type": "display_data"
    }
   ],
   "source": [
    "df['month'].value_counts().sort_index().plot()"
   ]
  },
  {
   "cell_type": "code",
   "execution_count": 85,
   "metadata": {},
   "outputs": [
    {
     "data": {
      "text/plain": [
       "<matplotlib.axes._subplots.AxesSubplot at 0x25a8c392438>"
      ]
     },
     "execution_count": 85,
     "metadata": {},
     "output_type": "execute_result"
    },
    {
     "data": {
      "image/png": "[encoded data removed]",
      "text/plain": [
       "<Figure size 432x288 with 1 Axes>"
      ]
     },
     "metadata": {
      "needs_background": "light"
     },
     "output_type": "display_data"
    }
   ],
   "source": [
    "df['dayofweek'].value_counts().plot(kind='bar')"
   ]
  },
  {
   "cell_type": "code",
   "execution_count": 64,
   "metadata": {},
   "outputs": [
    {
     "data": {
      "text/plain": [
       "<matplotlib.axes._subplots.AxesSubplot at 0x25a8c4cff60>"
      ]
     },
     "execution_count": 64,
     "metadata": {},
     "output_type": "execute_result"
    },
    {
     "data": {
      "image/png": "[encoded data removed]",
      "text/plain": [
       "<Figure size 432x288 with 1 Axes>"
      ]
     },
     "metadata": {
      "needs_background": "light"
     },
     "output_type": "display_data"
    }
   ],
   "source": [
    "df.groupby(['SEVERITYDESC'])['ROADCOND'].value_counts().plot(kind='bar')"
   ]
  },
  {
   "cell_type": "code",
   "execution_count": 65,
   "metadata": {},
   "outputs": [
    {
     "data": {
      "text/plain": [
       "SEVERITYDESC                    LIGHTCOND               \n",
       "Injury Collision                Daylight                    38544\n",
       "                                Dark - Street Lights On     14475\n",
       "                                Dusk                         1944\n",
       "                                Dawn                          824\n",
       "                                Unknown                       605\n",
       "                                Dark - No Street Lights       334\n",
       "                                Dark - Street Lights Off      316\n",
       "                                Other                          52\n",
       "                                Dark - Unknown Lighting         4\n",
       "Property Damage Only Collision  Daylight                    77593\n",
       "                                Dark - Street Lights On     34032\n",
       "                                Unknown                     12868\n",
       "                                Dusk                         3958\n",
       "                                Dawn                         1678\n",
       "                                Dark - No Street Lights      1203\n",
       "                                Dark - Street Lights Off      883\n",
       "                                Other                         183\n",
       "                                Dark - Unknown Lighting         7\n",
       "Name: LIGHTCOND, dtype: int64"
      ]
     },
     "execution_count": 65,
     "metadata": {},
     "output_type": "execute_result"
    }
   ],
   "source": [
    "df.groupby(['SEVERITYDESC'])['LIGHTCOND'].value_counts()"
   ]
  },
  {
   "cell_type": "code",
   "execution_count": 66,
   "metadata": {},
   "outputs": [
    {
     "data": {
      "text/plain": [
       "SEVERITYDESC                    WEATHER                 \n",
       "Injury Collision                Clear                       35840\n",
       "                                Raining                     11176\n",
       "                                Overcast                     8745\n",
       "                                Unknown                       816\n",
       "                                Fog/Smog/Smoke                187\n",
       "                                Snowing                       171\n",
       "                                Other                         116\n",
       "                                Sleet/Hail/Freezing Rain       28\n",
       "                                Blowing Sand/Dirt              15\n",
       "                                Severe Crosswind                7\n",
       "                                Partly Cloudy                   3\n",
       "Property Damage Only Collision  Clear                       75295\n",
       "                                Raining                     21969\n",
       "                                Overcast                    18969\n",
       "                                Unknown                     14275\n",
       "                                Snowing                       736\n",
       "                                Other                         716\n",
       "                                Fog/Smog/Smoke                382\n",
       "                                Sleet/Hail/Freezing Rain       85\n",
       "                                Blowing Sand/Dirt              41\n",
       "                                Severe Crosswind               18\n",
       "                                Partly Cloudy                   2\n",
       "Name: WEATHER, dtype: int64"
      ]
     },
     "execution_count": 66,
     "metadata": {},
     "output_type": "execute_result"
    }
   ],
   "source": [
    "df.groupby(['SEVERITYDESC'])['WEATHER'].value_counts()"
   ]
  },
  {
   "cell_type": "code",
   "execution_count": 67,
   "metadata": {},
   "outputs": [
    {
     "data": {
      "text/plain": [
       "SEVERITYDESC                    PEDCYLCOUNT\n",
       "Injury Collision                0               53383\n",
       "                                1                4762\n",
       "                                2                  43\n",
       "Property Damage Only Collision  0              135806\n",
       "                                1                 679\n",
       "Name: PEDCYLCOUNT, dtype: int64"
      ]
     },
     "execution_count": 67,
     "metadata": {},
     "output_type": "execute_result"
    }
   ],
   "source": [
    "df.groupby(['SEVERITYDESC'])['PEDCYLCOUNT'].value_counts()"
   ]
  },
  {
   "cell_type": "code",
   "execution_count": 68,
   "metadata": {},
   "outputs": [
    {
     "data": {
      "text/plain": [
       "SEVERITYDESC                    PEDCOUNT\n",
       "Injury Collision                0            51947\n",
       "                                1             6007\n",
       "                                2              207\n",
       "                                3               21\n",
       "                                4                4\n",
       "                                5                1\n",
       "                                6                1\n",
       "Property Damage Only Collision  0           135787\n",
       "                                1              678\n",
       "                                2               19\n",
       "                                3                1\n",
       "Name: PEDCOUNT, dtype: int64"
      ]
     },
     "execution_count": 68,
     "metadata": {},
     "output_type": "execute_result"
    }
   ],
   "source": [
    "df.groupby(['SEVERITYDESC'])['PEDCOUNT'].value_counts()"
   ]
  },
  {
   "cell_type": "code",
   "execution_count": 69,
   "metadata": {},
   "outputs": [
    {
     "data": {
      "text/plain": [
       "SEVERITYDESC                    UNDERINFL\n",
       "Injury Collision                0             54626\n",
       "                                1              3562\n",
       "Property Damage Only Collision  0            130926\n",
       "                                1              5559\n",
       "Name: UNDERINFL, dtype: int64"
      ]
     },
     "execution_count": 69,
     "metadata": {},
     "output_type": "execute_result"
    }
   ],
   "source": [
    "df['UNDERINFL']=df['UNDERINFL'].replace(np.nan, \"0\")\n",
    "df['UNDERINFL']=df['UNDERINFL'].replace(\"N\", \"0\")\n",
    "df['UNDERINFL']=df['UNDERINFL'].replace(\"Y\", \"1\")\n",
    "df['UNDERINFL']=df['UNDERINFL'].astype(\"int64\", errors='ignore')\n",
    "df.groupby(['SEVERITYDESC'])['UNDERINFL'].value_counts()"
   ]
  },
  {
   "cell_type": "code",
   "execution_count": 70,
   "metadata": {},
   "outputs": [
    {
     "data": {
      "text/plain": [
       "SEVERITYDESC                    SPEEDING\n",
       "Injury Collision                Y           3531\n",
       "Property Damage Only Collision  Y           5802\n",
       "Name: SPEEDING, dtype: int64"
      ]
     },
     "execution_count": 70,
     "metadata": {},
     "output_type": "execute_result"
    }
   ],
   "source": [
    "df.groupby(['SEVERITYDESC'])['SPEEDING'].value_counts()"
   ]
  },
  {
   "cell_type": "code",
   "execution_count": 71,
   "metadata": {},
   "outputs": [
    {
     "data": {
      "text/plain": [
       "<matplotlib.axes._subplots.AxesSubplot at 0x25a8c4bfb70>"
      ]
     },
     "execution_count": 71,
     "metadata": {},
     "output_type": "execute_result"
    },
    {
     "data": {
      "image/png": "[encoded data removed]",
      "text/plain": [
       "<Figure size 432x288 with 1 Axes>"
      ]
     },
     "metadata": {
      "needs_background": "light"
     },
     "output_type": "display_data"
    }
   ],
   "source": [
    "df.groupby(['SEVERITYDESC'])['dayofweek'].value_counts().plot(kind='bar')"
   ]
  },
  {
   "cell_type": "code",
   "execution_count": 72,
   "metadata": {},
   "outputs": [
    {
     "data": {
      "text/plain": [
       "SEVERITYDESC                    VEHCOUNT\n",
       "Injury Collision                2            35949\n",
       "                                1            14105\n",
       "                                3             5470\n",
       "                                0             1227\n",
       "                                4             1078\n",
       "                                5              261\n",
       "                                6               60\n",
       "                                7               22\n",
       "                                9                6\n",
       "                                8                5\n",
       "                                11               3\n",
       "                                10               2\n",
       "Property Damage Only Collision  2           111701\n",
       "                                1            11643\n",
       "                                3             7540\n",
       "                                0             3858\n",
       "                                4             1348\n",
       "                                5              268\n",
       "                                6               86\n",
       "                                7               24\n",
       "                                8               10\n",
       "                                9                3\n",
       "                                11               3\n",
       "                                12               1\n",
       "Name: VEHCOUNT, dtype: int64"
      ]
     },
     "execution_count": 72,
     "metadata": {},
     "output_type": "execute_result"
    }
   ],
   "source": [
    "df.groupby(['SEVERITYDESC'])['VEHCOUNT'].value_counts()"
   ]
  },
  {
   "cell_type": "code",
   "execution_count": 73,
   "metadata": {},
   "outputs": [
    {
     "data": {
      "text/plain": [
       "SEVERITYDESC                    hour\n",
       "Injury Collision                0        9252\n",
       "                                17       4498\n",
       "                                16       4012\n",
       "                                15       3741\n",
       "                                14       3370\n",
       "                                18       3332\n",
       "                                13       3085\n",
       "                                12       2986\n",
       "                                8        2692\n",
       "                                9        2410\n",
       "                                11       2401\n",
       "                                19       2287\n",
       "                                7        2154\n",
       "                                10       2139\n",
       "                                20       1750\n",
       "                                21       1617\n",
       "                                22       1525\n",
       "                                23       1109\n",
       "                                6        1017\n",
       "                                2         870\n",
       "                                1         831\n",
       "                                5         489\n",
       "                                3         349\n",
       "                                4         272\n",
       "Property Damage Only Collision  0       25129\n",
       "                                17       8449\n",
       "                                16       8110\n",
       "                                15       7773\n",
       "                                12       7398\n",
       "                                14       7245\n",
       "                                13       7134\n",
       "                                18       6411\n",
       "                                8        5878\n",
       "                                11       5808\n",
       "                                9        5642\n",
       "                                10       5326\n",
       "                                19       4969\n",
       "                                20       4486\n",
       "                                7        4389\n",
       "                                21       3954\n",
       "                                22       3943\n",
       "                                23       3502\n",
       "                                2        2736\n",
       "                                1        2577\n",
       "                                6        2182\n",
       "                                3        1316\n",
       "                                5        1178\n",
       "                                4         950\n",
       "Name: hour, dtype: int64"
      ]
     },
     "execution_count": 73,
     "metadata": {},
     "output_type": "execute_result"
    }
   ],
   "source": [
    "df.groupby(['SEVERITYDESC'])['hour'].value_counts()"
   ]
  },
  {
   "cell_type": "code",
   "execution_count": 74,
   "metadata": {},
   "outputs": [
    {
     "data": {
      "text/plain": [
       "SEVERITYDESC                    ADDRTYPE    \n",
       "Injury Collision                Block           30096\n",
       "                                Intersection    27819\n",
       "                                Alley              82\n",
       "Property Damage Only Collision  Block           96830\n",
       "                                Intersection    37251\n",
       "                                Alley             669\n",
       "Name: ADDRTYPE, dtype: int64"
      ]
     },
     "execution_count": 74,
     "metadata": {},
     "output_type": "execute_result"
    }
   ],
   "source": [
    "df.groupby(['SEVERITYDESC'])['ADDRTYPE'].value_counts()"
   ]
  },
  {
   "cell_type": "code",
   "execution_count": 75,
   "metadata": {},
   "outputs": [
    {
     "data": {
      "text/plain": [
       "SEVERITYDESC                    LOCATION                                                                            \n",
       "Injury Collision                AURORA AVE N BETWEEN N 117TH PL AND N 125TH ST                                          120\n",
       "                                6TH AVE AND JAMES ST                                                                    107\n",
       "                                N NORTHGATE WAY BETWEEN MERIDIAN AVE N AND CORLISS AVE N                                 94\n",
       "                                RAINIER AVE S BETWEEN S BAYVIEW ST AND S MCCLELLAN ST                                    94\n",
       "                                AURORA AVE N BETWEEN N 130TH ST AND N 135TH ST                                           88\n",
       "                                BATTERY ST TUNNEL SB BETWEEN AURORA AVE N AND ALASKAN WY VI SB                           86\n",
       "                                BATTERY ST TUNNEL NB BETWEEN ALASKAN WY VI NB AND AURORA AVE N                           78\n",
       "                                WEST SEATTLE BR EB BETWEEN ALASKAN WY VI NB ON RP AND DELRIDGE-W SEATTLE BR EB ON RP     78\n",
       "                                5TH AVE AND SPRING ST                                                                    73\n",
       "                                BOREN AVE AND PIKE ST                                                                    69\n",
       "                                12TH AVE AND E MADISON ST                                                                68\n",
       "                                ALASKAN WY VI SB BETWEEN COLUMBIA ST ON RP AND ALASKAN WY VI SB EFR OFF RP               68\n",
       "                                RAINIER AVE S AND S ORCAS ST                                                             67\n",
       "                                ALASKAN WY VI NB BETWEEN S ROYAL BROUGHAM WAY ON RP AND SENECA ST OFF RP                 63\n",
       "                                AURORA BR BETWEEN RAYE ST AND BRIDGE WAY N                                               61\n",
       "                                5TH AVE AND UNION ST                                                                     60\n",
       "                                AURORA AVE N BETWEEN N 143RD ST AND ROOSEVELT WAY N                                      58\n",
       "                                ALASKAN WY VI NB BETWEEN SENECA ST OFF RP AND WESTERN AV OFF RP                          55\n",
       "                                RAINIER AVE S BETWEEN S CHARLESTOWN ST AND S ANDOVER ST                                  55\n",
       "                                12TH AVE AND E YESLER WAY                                                                54\n",
       "                                1ST AVE AND MARION ST                                                                    54\n",
       "                                5TH AVE AND UNIVERSITY ST                                                                54\n",
       "                                HIGHLAND PARK WAY SW BETWEEN WEST MARGINAL WAY SW AND SW OTHELLO ST                      54\n",
       "                                23RD AVE E AND E JOHN ST                                                                 53\n",
       "                                ELLIOTT AVE W BETWEEN W MERCER ST AND W MERCER PL                                        52\n",
       "                                RAINIER AVE S BETWEEN S CLOVERDALE ST AND S HENDERSON ST                                 52\n",
       "                                5TH AVE AND PIKE ST                                                                      51\n",
       "                                N NORTHGATE WAY BETWEEN CORLISS AVE N AND 1ST AVE NE                                     51\n",
       "                                RAINIER AVE S BETWEEN S HENDERSON ST AND S DIRECTOR N ST                                 51\n",
       "                                BROADWAY E AND E OLIVE WAY                                                               50\n",
       "                                                                                                                       ... \n",
       "Property Damage Only Collision  WOODLAND PARK AVE N BETWEEN N 48TH ST AND N 49TH ST                                       1\n",
       "                                WOODLAND PARK AVE N BETWEEN N 49TH ST AND N 50TH ST                                       1\n",
       "                                WOODLAND PARK AVE N BETWEEN N ALLEN PL AND N 45TH ST                                      1\n",
       "                                WOODLAND PL N AND N 64TH ST                                                               1\n",
       "                                WOODLAND PL N AND N 65TH ST                                                               1\n",
       "                                WOODLAND PL N BETWEEN N 63RD ST AND N 64TH ST                                             1\n",
       "                                WOODLAWN AVE N AND N 41ST ST                                                              1\n",
       "                                WOODLAWN AVE N AND N 45TH W ST                                                            1\n",
       "                                WOODLAWN AVE N AND N 63RD N ST                                                            1\n",
       "                                WOODLAWN AVE N BETWEEN N 36TH ST AND N 37TH ST                                            1\n",
       "                                WOODLAWN AVE N BETWEEN N 51ST ST AND N 52ND ST                                            1\n",
       "                                WOODLAWN AVE N BETWEEN N 55TH E ST AND N 57TH ST                                          1\n",
       "                                WOODLAWN AVE N BETWEEN N 57TH ST AND WALLINGFORD AVE N                                    1\n",
       "                                WOODLAWN AVE N BETWEEN N 63RD S ST AND MERIDIAN AVE N                                     1\n",
       "                                WOODLAWN AVE N BETWEEN N 64TH ST AND N 65TH ST                                            1\n",
       "                                WOODLAWN AVE NE BETWEEN 1ST S AVE NE AND 2ND S AVE NE                                     1\n",
       "                                WOODLAWN AVE NE BETWEEN 2ND N AVE NE AND 1ST N AVE NE                                     1\n",
       "                                WOODLAWN PL N AND DEAD END                                                                1\n",
       "                                WOODLEY AVE S AND S 115TH ST                                                              1\n",
       "                                WOODROW PL E BETWEEN E MADISON ST AND E GARFIELD ST                                       1\n",
       "                                WOODSIDE PL SW AND SW OTHELLO ST                                                          1\n",
       "                                YAKIMA AVE S AND S CHARLES ST                                                             1\n",
       "                                YAKIMA AVE S AND S IRVING ST                                                              1\n",
       "                                YAKIMA AVE S AND S JUDKINS ST                                                             1\n",
       "                                YALE AVE E AND E ROANOKE ST                                                               1\n",
       "                                YALE AVE E BETWEEN YALE PL E AND E NEWTON ST                                              1\n",
       "                                YALE AVE N BETWEEN FAIRVIEW NR AVE N AND DEAD END 2                                       1\n",
       "                                YESLER WAY BETWEEN ALASKAN E RDWY WAY AND WESTERN AVE                                     1\n",
       "                                YORK RD S BETWEEN S HORTON ST AND 36TH AVE S                                              1\n",
       "                                YUKON AVE S AND S HENDERSON ST                                                            1\n",
       "Name: LOCATION, Length: 35081, dtype: int64"
      ]
     },
     "execution_count": 75,
     "metadata": {},
     "output_type": "execute_result"
    }
   ],
   "source": [
    "df.groupby(['SEVERITYDESC'])['LOCATION'].value_counts()"
   ]
  },
  {
   "cell_type": "code",
   "execution_count": 76,
   "metadata": {},
   "outputs": [
    {
     "data": {
      "text/plain": [
       "SEVERITYDESC                    JUNCTIONTYPE                                     \n",
       "Injury Collision                At Intersection (intersection related)               27174\n",
       "                                Mid-Block (not related to intersection)              19404\n",
       "                                Mid-Block (but intersection related)                  7297\n",
       "                                Driveway Junction                                     3234\n",
       "                                At Intersection (but not related to intersection)      623\n",
       "                                Ramp Junction                                           54\n",
       "                                Unknown                                                  2\n",
       "Property Damage Only Collision  Mid-Block (not related to intersection)              70396\n",
       "                                At Intersection (intersection related)               35636\n",
       "                                Mid-Block (but intersection related)                 15493\n",
       "                                Driveway Junction                                     7437\n",
       "                                At Intersection (but not related to intersection)     1475\n",
       "                                Ramp Junction                                          112\n",
       "                                Unknown                                                  7\n",
       "Name: JUNCTIONTYPE, dtype: int64"
      ]
     },
     "execution_count": 76,
     "metadata": {},
     "output_type": "execute_result"
    }
   ],
   "source": [
    "df.groupby(['SEVERITYDESC'])['JUNCTIONTYPE'].value_counts()"
   ]
  },
  {
   "cell_type": "code",
   "execution_count": 77,
   "metadata": {},
   "outputs": [
    {
     "data": {
      "text/plain": [
       "SEVERITYDESC                    ST_COLCODE\n",
       "Injury Collision                10            9299\n",
       "                                14            7348\n",
       "                                10            4325\n",
       "                                14            4020\n",
       "                                28            3149\n",
       "                                45            2741\n",
       "                                50            2191\n",
       "                                13            2102\n",
       "                                0             1760\n",
       "                                32            1491\n",
       "                                28            1482\n",
       "                                2             1408\n",
       "                                45            1381\n",
       "                                11            1208\n",
       "                                50            1100\n",
       "                                              1028\n",
       "                                13             952\n",
       "                                0              807\n",
       "                                1              710\n",
       "                                32             654\n",
       "                                2              593\n",
       "                                23             573\n",
       "                                11             553\n",
       "                                15             487\n",
       "                                16             425\n",
       "                                52             380\n",
       "                                5              356\n",
       "                                1              349\n",
       "                                22             321\n",
       "                                21             316\n",
       "                                              ... \n",
       "Property Damage Only Collision  82              14\n",
       "                                4               14\n",
       "                                64              13\n",
       "                                41              10\n",
       "                                31               8\n",
       "                                48               8\n",
       "                                56               8\n",
       "                                65               8\n",
       "                                17               7\n",
       "                                42               6\n",
       "                                3                5\n",
       "                                18               5\n",
       "                                54               5\n",
       "                                67               5\n",
       "                                88               5\n",
       "                                66               4\n",
       "                                53               4\n",
       "                                42               3\n",
       "                                65               3\n",
       "                                66               3\n",
       "                                53               2\n",
       "                                67               2\n",
       "                                8                2\n",
       "                                4                1\n",
       "                                43               1\n",
       "                                54               1\n",
       "                                43               1\n",
       "                                60               1\n",
       "                                7                1\n",
       "                                85               1\n",
       "Name: ST_COLCODE, Length: 217, dtype: int64"
      ]
     },
     "execution_count": 77,
     "metadata": {},
     "output_type": "execute_result"
    }
   ],
   "source": [
    "df.groupby(['SEVERITYDESC'])['ST_COLCODE'].value_counts()"
   ]
  },
  {
   "cell_type": "code",
   "execution_count": 78,
   "metadata": {},
   "outputs": [
    {
     "data": {
      "text/plain": [
       "SEVERITYDESC                    ST_COLDESC                                                                           \n",
       "Injury Collision                Entering at angle                                                                        13624\n",
       "                                From same direction - both going straight - one stopped - rear-end                       11368\n",
       "                                From opposite direction - one left turn - one straight                                    4631\n",
       "                                Vehicle - Pedalcyclist                                                                    4122\n",
       "                                Fixed object                                                                              3291\n",
       "                                From same direction - both going straight - both moving - rear-end                        3054\n",
       "                                Vehicle going straight hits pedestrian                                                    2567\n",
       "                                One parked--one moving                                                                    2145\n",
       "                                Vehicle turning left hits pedestrian                                                      2001\n",
       "                                From same direction - both going straight - both moving - sideswipe                       1761\n",
       "                                Vehicle turning right hits pedestrian                                                     1059\n",
       "                                From same direction - all others                                                           840\n",
       "                                From same direction - one left turn - one straight                                         731\n",
       "                                Vehicle overturned                                                                         620\n",
       "                                One car leaving driveway access                                                            614\n",
       "                                From same direction - one right turn - one straight                                        609\n",
       "                                One car entering driveway access                                                           549\n",
       "                                From opposite direction - all others                                                       448\n",
       "                                One car leaving parked position                                                            442\n",
       "                                From opposite direction - both moving - head-on                                            373\n",
       "                                Vehicle Strikes Pedalcyclist                                                               356\n",
       "                                From opposite direction - both going straight - sideswipe                                  282\n",
       "                                From same direction - both going straight - one stopped - sideswipe                        247\n",
       "                                Pedalcyclist Strikes Moving Vehicle                                                        228\n",
       "                                Vehicle backing hits pedestrian                                                            213\n",
       "                                Same direction -- both turning right -- one stopped -- rear end                            141\n",
       "                                Vehicle hits Pedestrian - All Other Actions                                                 96\n",
       "                                Same direction -- both turning right -- both moving -- sideswipe                            85\n",
       "                                One car entering parked position                                                            75\n",
       "                                Same direction -- both turning left -- both moving -- sideswipe                             69\n",
       "                                                                                                                         ...  \n",
       "Property Damage Only Collision  Railway Vehicle Strikes Vehicle                                                             82\n",
       "                                From opposite direction - one stopped - head-on                                             81\n",
       "                                All other non-collision                                                                     76\n",
       "                                Same direction -- both turning left -- both moving -- rear end                              65\n",
       "                                Same direction -- both turning right -- one stopped -- sideswipe                            65\n",
       "                                Same direction -- both turning left -- one stopped -- rear end                              62\n",
       "                                Vehicle Strikes Pedalcyclist                                                                60\n",
       "                                Vehicle Strikes Railway Vehicle                                                             44\n",
       "                                Vehicle Hits City Road or Construction Machinery                                            41\n",
       "                                Not stated                                                                                  37\n",
       "                                Same direction -- both turning left -- one stopped -- sideswipe                             33\n",
       "                                Domestic animal other (cat, dog, etc)                                                       30\n",
       "                                Pedalcyclist Strikes Moving Vehicle                                                         29\n",
       "                                Breakage of any part of the vehicle resulting in injury or in further property damage       25\n",
       "                                Vehicle backing hits pedestrian                                                             23\n",
       "                                Vehicle hits Pedestrian - All Other Actions                                                 15\n",
       "                                Vehicle Struck by City Road or Construction Machinery                                       11\n",
       "                                Railway Vehicle Strikes Pedestrian                                                           9\n",
       "                                Strikes or Was Struck by Object from the Load of Another Vehicle                             7\n",
       "                                Vehicle Hits Other Road or Construction Machinery                                            7\n",
       "                                Vehicle Struck by Other Road or Construction Machinery                                       7\n",
       "                                Fire started in vehicle                                                                      6\n",
       "                                Person fell, jumped or was pushed from vehicle                                               6\n",
       "                                All Other Multi Vehicle                                                                      5\n",
       "                                Strikes or Was Struck by a Part of Another Vehicle (Not from Load)                           5\n",
       "                                Pedalcyclist All Other Involvements ONE UNIT - PEDALCYCLIST ONLY or PEDALCYCLIST STR         2\n",
       "                                Railway Vehicle Strikes Pedalcyclist                                                         2\n",
       "                                Pedalcyclist Strikes Pedalcyclist or Pedestrian                                              1\n",
       "                                Vehicle Hits State Road or Construction Machinery                                            1\n",
       "                                Vehicle Strikes Deer                                                                         1\n",
       "Name: ST_COLDESC, Length: 117, dtype: int64"
      ]
     },
     "execution_count": 78,
     "metadata": {},
     "output_type": "execute_result"
    }
   ],
   "source": [
    "df.groupby(['SEVERITYDESC'])['ST_COLDESC'].value_counts()"
   ]
  },
  {
   "cell_type": "markdown",
   "metadata": {},
   "source": [
    "From the above preliminary analysis, we observe that:\n",
    "<ul class=\"a\">\n",
    "    <li>The number of accidents is showing a decreasing trend since 2015.</li>\n",
    "    <li>Road conditions, light conditions, speeding and sobriety of the driver do not seem to affect the number of accidents since the highest number of accidents seem to occur on dry roads, during daylight, in clear weather and when the driver is sober.</li>\n",
    "    <li>Most accidents seem to occur on Fridays (as dayofweek 0=Monday).</li>\n",
    "    <li>There seems to be a spike in accidents at 00 hours. This could be because a lot of accidents do not have the time of incident recorded, which are recorded by default as at 00 hours</li>\n",
    "    <li>Most accidents involving physical injury are caused due to vehicles entering at an angle, followed by those due to rear-ending while most accidents involving property damage are caused due to railway vehicles striking the vehicle or due to head-on collisions</li>\n",
    "    <li>Highest number of accidents have occurred when the sky is clear, followed by rainy and overcast weather</li>\n",
    "    <li>Both Injury and Property damage only collisions are frequently occurring at Intersection (intersection related), Mid-Block (not related to intersection) and Mid-Block (but intersection related)</li>\n",
    "    <li>There are some locations which are more prone to injury collisions but property damage related collisions seem to be evenly distributed between locations</li>\n",
    "    \n"
   ]
  },
  {
   "cell_type": "code",
   "execution_count": 79,
   "metadata": {},
   "outputs": [
    {
     "data": {
      "text/plain": [
       "SEVERITYCODE           0\n",
       "X                   5334\n",
       "Y                   5334\n",
       "OBJECTID               0\n",
       "INCKEY                 0\n",
       "COLDETKEY              0\n",
       "REPORTNO               0\n",
       "STATUS                 0\n",
       "ADDRTYPE            1926\n",
       "INTKEY            129603\n",
       "LOCATION            2677\n",
       "EXCEPTRSNCODE     109862\n",
       "EXCEPTRSNDESC     189035\n",
       "SEVERITYCODE.1         0\n",
       "SEVERITYDESC           0\n",
       "COLLISIONTYPE       4904\n",
       "PERSONCOUNT            0\n",
       "PEDCOUNT               0\n",
       "PEDCYLCOUNT            0\n",
       "VEHCOUNT               0\n",
       "INCDATE                0\n",
       "INCDTTM                0\n",
       "JUNCTIONTYPE        6329\n",
       "SDOT_COLCODE           0\n",
       "SDOT_COLDESC           0\n",
       "INATTENTIONIND    164868\n",
       "UNDERINFL              0\n",
       "WEATHER             5081\n",
       "ROADCOND            5012\n",
       "LIGHTCOND           5170\n",
       "PEDROWNOTGRNT     190006\n",
       "SDOTCOLNUM         79737\n",
       "SPEEDING          185340\n",
       "ST_COLCODE            18\n",
       "ST_COLDESC          4904\n",
       "SEGLANEKEY             0\n",
       "CROSSWALKKEY           0\n",
       "HITPARKEDCAR           0\n",
       "year                   0\n",
       "month                  0\n",
       "hour                   0\n",
       "dayofweek              0\n",
       "dtype: int64"
      ]
     },
     "execution_count": 79,
     "metadata": {},
     "output_type": "execute_result"
    }
   ],
   "source": [
    "df.isnull().sum()"
   ]
  },
  {
   "cell_type": "code",
   "execution_count": 80,
   "metadata": {},
   "outputs": [],
   "source": [
    "features=['SEVERITYCODE', 'ADDRTYPE', 'ADDRTYPE_INT', 'LOCATION', 'LOCATION_INT', 'PERSONCOUNT', 'PEDCOUNT', 'PEDCYLCOUNT', \\\n",
    "          'VEHCOUNT','month', 'hour', 'dayofweek', 'JUNCTIONTYPE', 'JUNCTIONTYPE_INT','WEATHER', 'WEATHER_INT', \n",
    "          'ROADCOND','ROADCOND_INT','LIGHTCOND', 'LIGHTCOND_INT']\n",
    "\n"
   ]
  },
  {
   "cell_type": "code",
   "execution_count": 81,
   "metadata": {},
   "outputs": [],
   "source": [
    "#Converting all columns of our interest into integers\n",
    "\n",
    "df['WEATHER'] = df['WEATHER'].replace(\"Other\", \"Unknown\")\n",
    "df['WEATHER'] = df['WEATHER'].replace(np.nan, \"Unknown\")\n",
    "df['WEATHER_INT'] = df['WEATHER'].replace({'Clear': '1', \n",
    "                                                      'Partly Cloudy': '2', \n",
    "                                                      'Overcast': '3', \n",
    "                                                      'Severe Crosswind': '4', \n",
    "                                                      'Raining':'6',\n",
    "                                                      'Blowing Sand/Dirt':'7',\n",
    "                                                      'Sleet/Hail/Freezing Rain': '8',\n",
    "                                                      'Fog/Smog/Smoke':'9',\n",
    "                                                      'Snowing':'10',\n",
    "                                                      'Unknown':'5',               \n",
    "                                                     })\n",
    "df['WEATHER_INT'] = df['WEATHER_INT'].astype(\"int64\", errors='ignore')\n",
    "\n",
    "\n",
    "df['ROADCOND'] = df['ROADCOND'].replace(\"Other\", \"Unknown\")\n",
    "df['ROADCOND'] = df['ROADCOND'].replace(np.nan, \"Unknown\")\n",
    "df['ROADCOND_INT'] = df['ROADCOND'] .replace({'Dry': '1', \n",
    "                                                      'Sand/Mud/Dirt': '2', \n",
    "                                                      'Wet': '3', \n",
    "                                                      'Unknown': '4', \n",
    "                                                      'Standing Water':'5',\n",
    "                                                      'Snow/Slush':'6',\n",
    "                                                      'Ice': '7',\n",
    "                                                      'Oil':'8',              \n",
    "                                                     })\n",
    "df['ROADCOND_INT'] = df['ROADCOND_INT'].astype(\"int64\", errors='ignore')\n",
    "\n",
    "\n",
    "df['LIGHTCOND'] = df['LIGHTCOND'].replace(\"Other\", \"Unknown\")\n",
    "df['LIGHTCOND'] = df['LIGHTCOND'].replace(np.nan, \"Unknown\")\n",
    "df['LIGHTCOND'] = df['LIGHTCOND'].replace(\"Dark - No Street Lights\", \"Dark - Street Lights Off\")\n",
    "df['LIGHTCOND_INT'] = df['LIGHTCOND'] .replace({'Daylight': '1', \n",
    "                                                      'Dusk': '2', \n",
    "                                                      'Dawn': '3', \n",
    "                                                      'Dark - Street Lights On': '4',\n",
    "                                                      'Unknown': '5' ,\n",
    "                                                      'Dark - Unknown Lighting':'6',\n",
    "                                                      'Dark - Street Lights Off':'7',        \n",
    "                                                     })\n",
    "df['LIGHTCOND_INT'] = df['LIGHTCOND_INT'].astype(\"int64\")\n",
    "\n",
    "\n",
    "\n",
    "df['LOCATION_INT'] = pd.factorize(df['LOCATION'])[0] + 1\n",
    "\n",
    "\n",
    "df['JUNCTIONTYPE'] = df['JUNCTIONTYPE'].replace(np.nan, \"Unknown\")\n",
    "df['JUNCTIONTYPE_INT'] = df['JUNCTIONTYPE'] .replace({'Mid-Block (not related to intersection)': '1', \n",
    "                                                      'At Intersection (intersection related)': '2', \n",
    "                                                      'Mid-Block (but intersection related)': '3', \n",
    "                                                      'Unknown': '4',\n",
    "                                                      'At Intersection (but not related to intersection)': '5' ,\n",
    "                                                      'Ramp Junction':'6',\n",
    "                                                      'Driveway Junction':'7',        \n",
    "                                                     })\n",
    "df['JUNCTIONTYPE_INT'] = df['JUNCTIONTYPE_INT'] .astype(\"int64\")\n",
    "\n",
    "df['ADDRTYPE']=df[df['ADDRTYPE'].notna()]\n",
    "df['ADDRTYPE_INT'] = df['ADDRTYPE'] .replace({'Block': '1', 'Alley': '2', 'Intersection': '3', np.nan: '0'})\n",
    "df['ADDRTYPE_INT'] = df['ADDRTYPE_INT'].astype(\"int64\")"
   ]
  },
  {
   "cell_type": "code",
   "execution_count": 82,
   "metadata": {},
   "outputs": [],
   "source": [
    "df_new= df[features]"
   ]
  },
  {
   "cell_type": "code",
   "execution_count": 83,
   "metadata": {},
   "outputs": [
    {
     "data": {
      "text/plain": [
       "<matplotlib.axes._subplots.AxesSubplot at 0x25a8a9819b0>"
      ]
     },
     "execution_count": 83,
     "metadata": {},
     "output_type": "execute_result"
    },
    {
     "data": {
      "image/png": "[encoded data removed]",
      "text/plain": [
       "<Figure size 432x288 with 2 Axes>"
      ]
     },
     "metadata": {
      "needs_background": "light"
     },
     "output_type": "display_data"
    }
   ],
   "source": [
    "sns.heatmap(df_new.corr(),linewidths=.5,cmap=\"YlGnBu\")\n"
   ]
  },
  {
   "cell_type": "markdown",
   "metadata": {},
   "source": [
    "<H1>Results </H1>\n",
    "    \n",
    "From the above heatmap, one can observe the correlation between severity code and address type as most of the injury collisions happen in address types blocks and intersection while nearly three-fourths of the property damage collisions happen in blocks.\n",
    "Also there is a correltion between person count and vehicle count which is not surprising as more the number of vehicles, the more the number of likely passengers and people involved in accident. Also weather, road conditions and light conditions have strong correlations which is unsurprising as weather impacts road conditions as well as light conditions.\n"
   ]
  },
  {
   "cell_type": "markdown",
   "metadata": {},
   "source": [
    "<H1>Discussion </H1>\n",
    "\n",
    "From the analysed data one can observe that \n",
    "<ul>The likelihood of property damage collisions is twice as more likely than injury collisions. </ul>\n",
    "<ul>Collisions are more likely to happen under high visibility conditions like daylight or dark with streetlights.</ul>\n",
    "<ul>Collisions are more likely when two vehicles are involved.</ul>\n",
    "<ul>Most accidents occur on a Friday. Hence traffic officials and people need to be more vigilant on that day of the week. </ul>\n",
    "<ul>Both Injury and Property damage only collisions are frequently occurring at Intersection (intersection related), Mid-Block (not related to intersection) and Mid-Block (but intersection related). Highly visible warning signs, traffic signals needs to be put up at such locations. </ul>\n",
    "<ul>There are some locations which are more prone to injury collisions but property damage related collisions seem to be evenly distributed between locations. Proper and highly visible warning signs,traffic signals needs to be put up at accident prone  locations.</ul>\n",
    "<ul>Accidents happen more commonly during clear weather, followed by rainy and overcast weather. The road conditions also vary accordingly. Hence, the driver needs to be more vigilant during such weather and road conditions.</ul>"
   ]
  },
  {
   "cell_type": "markdown",
   "metadata": {},
   "source": [
    "<H1>Conclusion </H1>\n",
    "\n",
    "Drivers, people and traffic officials need be more vigilant about accidents at certain locations, address types, weather, \n",
    "junctions and on particular days of the week. Accordingly, resources of the traffic department can be judiciously allocated so \n",
    "that the number of traffic accidents can be reduced. Additionally studies may be done to analyze why certain locations are \n",
    "prone to accidents, for instance whether it is due to faulty road design, alignment, etc and how the accidents at such locations \n",
    "can be reduced."
   ]
  },
  {
   "cell_type": "code",
   "execution_count": null,
   "metadata": {},
   "outputs": [],
   "source": []
  }
 ],
 "metadata": {
  "kernelspec": {
   "display_name": "Python 3",
   "language": "python",
   "name": "python3"
  },
  "language_info": {
   "codemirror_mode": {
    "name": "ipython",
    "version": 3
   },
   "file_extension": ".py",
   "mimetype": "text/x-python",
   "name": "python",
   "nbconvert_exporter": "python",
   "pygments_lexer": "ipython3",
   "version": "3.7.3"
  }
 },
 "nbformat": 4,
 "nbformat_minor": 2
}
