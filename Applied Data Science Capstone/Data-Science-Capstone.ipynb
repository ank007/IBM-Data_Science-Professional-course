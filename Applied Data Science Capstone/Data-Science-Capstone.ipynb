{
 "cells": [
  {
   "cell_type": "markdown",
   "metadata": {},
   "source": [
    "<H1> This notebook will be used for IBM Data Science Capstone project"
   ]
  },
  {
   "cell_type": "code",
   "execution_count": 28,
   "metadata": {},
   "outputs": [
    {
     "name": "stdout",
     "output_type": "stream",
     "text": [
      "Hello Capstone Project Course!\n"
     ]
    }
   ],
   "source": [
    "import pandas as pd\n",
    "import numpy as np\n",
    "print(\"Hello Capstone Project Course!\")"
   ]
  },
  {
   "cell_type": "markdown",
   "metadata": {},
   "source": [
    "<H2> Introduction\n",
    "\n",
    "<H3> Background: </H3>\n",
    "\n",
    "According to cdc.gov (https://www.cdc.gov/injury/features/global-road-safety/index.html), \"Road traffic crashes are a leading cause of death in the United States for people \n",
    "aged 1–54 and the leading cause of non-natural death for healthy U.S. citizens residing or traveling abroad...\n",
    "Each year, 1.35 million people are killed on roadways around the world.\n",
    "Every day, almost 3,700 people are killed globally in road traffic crashes involving cars, buses, motorcycles, bicycles, trucks, or pedestrians. More than half of those \n",
    "killed are pedestrians, motorcyclists, and cyclists.\n",
    "Road traffic injuries are estimated to be the eighth leading cause of death globally for all age groups and the leading cause of death for children and young people 5–29 years \n",
    "of age. More people now die in road traffic crashes than from HIV/AIDS.\"\n",
    "\n",
    "With the increasing number of vehicles that hit the road every year, the number of accidents and fatalities is only expected\n",
    "to increase. The reduction of accidents is hence of immense importance to people, healthcare organizations, private corporations and government bodies across the world to \n",
    "prevent the tragic loss of life, limb and property.\n",
    "The Seattle Police Department maintains a record of all the car collision incidents that occur within its jurisdictional limits, which is updated weekly on its website. \n",
    "An analysis of the car collision dataset may reveal interesting observations and patterns regarding the occurrence of car collisions, such as:\n",
    " Days of week which are more prone to accidents.\n",
    " Time of the day in which accidents are more likely to occur.\n",
    " Accident prone localities and streets.\n",
    " Whether some areas have a high occurrence of accidents during nighttime.\n",
    " Whether weather conditions affect the occurrence/severity of accidents.\n",
    " Whether road conditions affect the occurrence/severity of accidents.\n",
    "\n",
    "<H3> Audience: </H3>\n",
    "\n",
    "The analysis could be of particular interest to:\n",
    " <ul class=\"a\">\n",
    " <li>Traffic departments and civic agencies who might be looking for ways to reduce the accidents and resulting \n",
    " injuries/fatalities by identifying zones and situations which have a higher incidence of collisions and help them take appropriate measures for the same. </li>\n",
    " <li>Residents, drivers and pedestrians who could be warned about the likelihood of an accident on their travel route based on the location, weather, road conditions, etc.</li>\n",
    "© 2020 GitHub, Inc."
   ]
  },
  {
   "cell_type": "markdown",
   "metadata": {},
   "source": [
    "<H2> Data description </H2>\n",
    "\n",
    "The Data-Collisions.csv dataset has 194673 rows and 38 columns. Each accident has an unique primary and secondary key. Each accident location is uniquely identified through ESRI \n",
    "unique identifiers and geometry fields. Description of the general location of the accident site, type of the address(whether it is an alley/block/intersection), codes identifying\n",
    "the lane/crosswalk are also available in addition to the time and date of the accident.\n",
    "The severity of the accident is denoted by the severity code. The type of collision, the number of people and vehicles involved, total number of injuries, further segregated by \n",
    "serious injuries and fatalities are also available.\n",
    "The role of the driver in the accident, whether it was due to inattention, intoxication, weather/road conditions, speeding, whether right of way was given to pedestrian and \n",
    "whether it involved colliding with a parked car is also available in the dataset.\n",
    "A few more columns are also available in the dataset which do not seem to be very useful and would be dropped for the purpose of the analysis.\n",
    "\n",
    "The dataset can be downloaded at this <a href=\"https://s3.us.cloud-object-storage.appdomain.cloud/cf-courses-data/CognitiveClass/DP0701EN/version-2/Data-Collisions.csv\">link</a>. The metadata can be downloaded <a href=\"https://s3.us.cloud-object-storage.appdomain.cloud/cf-courses-data/CognitiveClass/DP0701EN/version-2/Metadata.pdf\">here</a>\n",
    "\n",
    "The dataset summary can be found below:"
   ]
  },
  {
   "cell_type": "code",
   "execution_count": 29,
   "metadata": {},
   "outputs": [
    {
     "name": "stderr",
     "output_type": "stream",
     "text": [
      "C:\\Users\\Ankita\\Anaconda3\\lib\\site-packages\\IPython\\core\\interactiveshell.py:3057: DtypeWarning: Columns (33) have mixed types. Specify dtype option on import or set low_memory=False.\n",
      "  interactivity=interactivity, compiler=compiler, result=result)\n"
     ]
    }
   ],
   "source": [
    "df=pd.read_csv('Data-Collisions.csv')"
   ]
  },
  {
   "cell_type": "code",
   "execution_count": 30,
   "metadata": {},
   "outputs": [
    {
     "data": {
      "text/plain": [
       "SEVERITYCODE        int64\n",
       "X                 float64\n",
       "Y                 float64\n",
       "OBJECTID            int64\n",
       "INCKEY              int64\n",
       "COLDETKEY           int64\n",
       "REPORTNO           object\n",
       "STATUS             object\n",
       "ADDRTYPE           object\n",
       "INTKEY            float64\n",
       "LOCATION           object\n",
       "EXCEPTRSNCODE      object\n",
       "EXCEPTRSNDESC      object\n",
       "SEVERITYCODE.1      int64\n",
       "SEVERITYDESC       object\n",
       "COLLISIONTYPE      object\n",
       "PERSONCOUNT         int64\n",
       "PEDCOUNT            int64\n",
       "PEDCYLCOUNT         int64\n",
       "VEHCOUNT            int64\n",
       "INCDATE            object\n",
       "INCDTTM            object\n",
       "JUNCTIONTYPE       object\n",
       "SDOT_COLCODE        int64\n",
       "SDOT_COLDESC       object\n",
       "INATTENTIONIND     object\n",
       "UNDERINFL          object\n",
       "WEATHER            object\n",
       "ROADCOND           object\n",
       "LIGHTCOND          object\n",
       "PEDROWNOTGRNT      object\n",
       "SDOTCOLNUM        float64\n",
       "SPEEDING           object\n",
       "ST_COLCODE         object\n",
       "ST_COLDESC         object\n",
       "SEGLANEKEY          int64\n",
       "CROSSWALKKEY        int64\n",
       "HITPARKEDCAR       object\n",
       "dtype: object"
      ]
     },
     "execution_count": 30,
     "metadata": {},
     "output_type": "execute_result"
    }
   ],
   "source": [
    "df.dtypes"
   ]
  },
  {
   "cell_type": "code",
   "execution_count": 31,
   "metadata": {
    "scrolled": true
   },
   "outputs": [
    {
     "name": "stdout",
     "output_type": "stream",
     "text": [
      "<class 'pandas.core.frame.DataFrame'>\n",
      "RangeIndex: 194673 entries, 0 to 194672\n",
      "Data columns (total 38 columns):\n",
      "SEVERITYCODE      194673 non-null int64\n",
      "X                 189339 non-null float64\n",
      "Y                 189339 non-null float64\n",
      "OBJECTID          194673 non-null int64\n",
      "INCKEY            194673 non-null int64\n",
      "COLDETKEY         194673 non-null int64\n",
      "REPORTNO          194673 non-null object\n",
      "STATUS            194673 non-null object\n",
      "ADDRTYPE          192747 non-null object\n",
      "INTKEY            65070 non-null float64\n",
      "LOCATION          191996 non-null object\n",
      "EXCEPTRSNCODE     84811 non-null object\n",
      "EXCEPTRSNDESC     5638 non-null object\n",
      "SEVERITYCODE.1    194673 non-null int64\n",
      "SEVERITYDESC      194673 non-null object\n",
      "COLLISIONTYPE     189769 non-null object\n",
      "PERSONCOUNT       194673 non-null int64\n",
      "PEDCOUNT          194673 non-null int64\n",
      "PEDCYLCOUNT       194673 non-null int64\n",
      "VEHCOUNT          194673 non-null int64\n",
      "INCDATE           194673 non-null object\n",
      "INCDTTM           194673 non-null object\n",
      "JUNCTIONTYPE      188344 non-null object\n",
      "SDOT_COLCODE      194673 non-null int64\n",
      "SDOT_COLDESC      194673 non-null object\n",
      "INATTENTIONIND    29805 non-null object\n",
      "UNDERINFL         189789 non-null object\n",
      "WEATHER           189592 non-null object\n",
      "ROADCOND          189661 non-null object\n",
      "LIGHTCOND         189503 non-null object\n",
      "PEDROWNOTGRNT     4667 non-null object\n",
      "SDOTCOLNUM        114936 non-null float64\n",
      "SPEEDING          9333 non-null object\n",
      "ST_COLCODE        194655 non-null object\n",
      "ST_COLDESC        189769 non-null object\n",
      "SEGLANEKEY        194673 non-null int64\n",
      "CROSSWALKKEY      194673 non-null int64\n",
      "HITPARKEDCAR      194673 non-null object\n",
      "dtypes: float64(4), int64(12), object(22)\n",
      "memory usage: 56.4+ MB\n"
     ]
    }
   ],
   "source": [
    "df.info()"
   ]
  },
  {
   "cell_type": "code",
   "execution_count": 32,
   "metadata": {},
   "outputs": [
    {
     "data": {
      "text/html": [
       "<div>\n",
       "<style scoped>\n",
       "    .dataframe tbody tr th:only-of-type {\n",
       "        vertical-align: middle;\n",
       "    }\n",
       "\n",
       "    .dataframe tbody tr th {\n",
       "        vertical-align: top;\n",
       "    }\n",
       "\n",
       "    .dataframe thead th {\n",
       "        text-align: right;\n",
       "    }\n",
       "</style>\n",
       "<table border=\"1\" class=\"dataframe\">\n",
       "  <thead>\n",
       "    <tr style=\"text-align: right;\">\n",
       "      <th></th>\n",
       "      <th>SEVERITYCODE</th>\n",
       "      <th>X</th>\n",
       "      <th>Y</th>\n",
       "      <th>OBJECTID</th>\n",
       "      <th>INCKEY</th>\n",
       "      <th>COLDETKEY</th>\n",
       "      <th>REPORTNO</th>\n",
       "      <th>STATUS</th>\n",
       "      <th>ADDRTYPE</th>\n",
       "      <th>INTKEY</th>\n",
       "      <th>...</th>\n",
       "      <th>ROADCOND</th>\n",
       "      <th>LIGHTCOND</th>\n",
       "      <th>PEDROWNOTGRNT</th>\n",
       "      <th>SDOTCOLNUM</th>\n",
       "      <th>SPEEDING</th>\n",
       "      <th>ST_COLCODE</th>\n",
       "      <th>ST_COLDESC</th>\n",
       "      <th>SEGLANEKEY</th>\n",
       "      <th>CROSSWALKKEY</th>\n",
       "      <th>HITPARKEDCAR</th>\n",
       "    </tr>\n",
       "  </thead>\n",
       "  <tbody>\n",
       "    <tr>\n",
       "      <th>0</th>\n",
       "      <td>2</td>\n",
       "      <td>-122.323148</td>\n",
       "      <td>47.703140</td>\n",
       "      <td>1</td>\n",
       "      <td>1307</td>\n",
       "      <td>1307</td>\n",
       "      <td>3502005</td>\n",
       "      <td>Matched</td>\n",
       "      <td>Intersection</td>\n",
       "      <td>37475.0</td>\n",
       "      <td>...</td>\n",
       "      <td>Wet</td>\n",
       "      <td>Daylight</td>\n",
       "      <td>NaN</td>\n",
       "      <td>NaN</td>\n",
       "      <td>NaN</td>\n",
       "      <td>10</td>\n",
       "      <td>Entering at angle</td>\n",
       "      <td>0</td>\n",
       "      <td>0</td>\n",
       "      <td>N</td>\n",
       "    </tr>\n",
       "    <tr>\n",
       "      <th>1</th>\n",
       "      <td>1</td>\n",
       "      <td>-122.347294</td>\n",
       "      <td>47.647172</td>\n",
       "      <td>2</td>\n",
       "      <td>52200</td>\n",
       "      <td>52200</td>\n",
       "      <td>2607959</td>\n",
       "      <td>Matched</td>\n",
       "      <td>Block</td>\n",
       "      <td>NaN</td>\n",
       "      <td>...</td>\n",
       "      <td>Wet</td>\n",
       "      <td>Dark - Street Lights On</td>\n",
       "      <td>NaN</td>\n",
       "      <td>6354039.0</td>\n",
       "      <td>NaN</td>\n",
       "      <td>11</td>\n",
       "      <td>From same direction - both going straight - bo...</td>\n",
       "      <td>0</td>\n",
       "      <td>0</td>\n",
       "      <td>N</td>\n",
       "    </tr>\n",
       "    <tr>\n",
       "      <th>2</th>\n",
       "      <td>1</td>\n",
       "      <td>-122.334540</td>\n",
       "      <td>47.607871</td>\n",
       "      <td>3</td>\n",
       "      <td>26700</td>\n",
       "      <td>26700</td>\n",
       "      <td>1482393</td>\n",
       "      <td>Matched</td>\n",
       "      <td>Block</td>\n",
       "      <td>NaN</td>\n",
       "      <td>...</td>\n",
       "      <td>Dry</td>\n",
       "      <td>Daylight</td>\n",
       "      <td>NaN</td>\n",
       "      <td>4323031.0</td>\n",
       "      <td>NaN</td>\n",
       "      <td>32</td>\n",
       "      <td>One parked--one moving</td>\n",
       "      <td>0</td>\n",
       "      <td>0</td>\n",
       "      <td>N</td>\n",
       "    </tr>\n",
       "    <tr>\n",
       "      <th>3</th>\n",
       "      <td>1</td>\n",
       "      <td>-122.334803</td>\n",
       "      <td>47.604803</td>\n",
       "      <td>4</td>\n",
       "      <td>1144</td>\n",
       "      <td>1144</td>\n",
       "      <td>3503937</td>\n",
       "      <td>Matched</td>\n",
       "      <td>Block</td>\n",
       "      <td>NaN</td>\n",
       "      <td>...</td>\n",
       "      <td>Dry</td>\n",
       "      <td>Daylight</td>\n",
       "      <td>NaN</td>\n",
       "      <td>NaN</td>\n",
       "      <td>NaN</td>\n",
       "      <td>23</td>\n",
       "      <td>From same direction - all others</td>\n",
       "      <td>0</td>\n",
       "      <td>0</td>\n",
       "      <td>N</td>\n",
       "    </tr>\n",
       "    <tr>\n",
       "      <th>4</th>\n",
       "      <td>2</td>\n",
       "      <td>-122.306426</td>\n",
       "      <td>47.545739</td>\n",
       "      <td>5</td>\n",
       "      <td>17700</td>\n",
       "      <td>17700</td>\n",
       "      <td>1807429</td>\n",
       "      <td>Matched</td>\n",
       "      <td>Intersection</td>\n",
       "      <td>34387.0</td>\n",
       "      <td>...</td>\n",
       "      <td>Wet</td>\n",
       "      <td>Daylight</td>\n",
       "      <td>NaN</td>\n",
       "      <td>4028032.0</td>\n",
       "      <td>NaN</td>\n",
       "      <td>10</td>\n",
       "      <td>Entering at angle</td>\n",
       "      <td>0</td>\n",
       "      <td>0</td>\n",
       "      <td>N</td>\n",
       "    </tr>\n",
       "  </tbody>\n",
       "</table>\n",
       "<p>5 rows × 38 columns</p>\n",
       "</div>"
      ],
      "text/plain": [
       "   SEVERITYCODE           X          Y  OBJECTID  INCKEY  COLDETKEY REPORTNO  \\\n",
       "0             2 -122.323148  47.703140         1    1307       1307  3502005   \n",
       "1             1 -122.347294  47.647172         2   52200      52200  2607959   \n",
       "2             1 -122.334540  47.607871         3   26700      26700  1482393   \n",
       "3             1 -122.334803  47.604803         4    1144       1144  3503937   \n",
       "4             2 -122.306426  47.545739         5   17700      17700  1807429   \n",
       "\n",
       "    STATUS      ADDRTYPE   INTKEY  ... ROADCOND                LIGHTCOND  \\\n",
       "0  Matched  Intersection  37475.0  ...      Wet                 Daylight   \n",
       "1  Matched         Block      NaN  ...      Wet  Dark - Street Lights On   \n",
       "2  Matched         Block      NaN  ...      Dry                 Daylight   \n",
       "3  Matched         Block      NaN  ...      Dry                 Daylight   \n",
       "4  Matched  Intersection  34387.0  ...      Wet                 Daylight   \n",
       "\n",
       "  PEDROWNOTGRNT  SDOTCOLNUM SPEEDING ST_COLCODE  \\\n",
       "0           NaN         NaN      NaN         10   \n",
       "1           NaN   6354039.0      NaN         11   \n",
       "2           NaN   4323031.0      NaN         32   \n",
       "3           NaN         NaN      NaN         23   \n",
       "4           NaN   4028032.0      NaN         10   \n",
       "\n",
       "                                          ST_COLDESC  SEGLANEKEY  \\\n",
       "0                                  Entering at angle           0   \n",
       "1  From same direction - both going straight - bo...           0   \n",
       "2                             One parked--one moving           0   \n",
       "3                   From same direction - all others           0   \n",
       "4                                  Entering at angle           0   \n",
       "\n",
       "   CROSSWALKKEY  HITPARKEDCAR  \n",
       "0             0             N  \n",
       "1             0             N  \n",
       "2             0             N  \n",
       "3             0             N  \n",
       "4             0             N  \n",
       "\n",
       "[5 rows x 38 columns]"
      ]
     },
     "execution_count": 32,
     "metadata": {},
     "output_type": "execute_result"
    }
   ],
   "source": [
    "df.head()"
   ]
  },
  {
   "cell_type": "code",
   "execution_count": 45,
   "metadata": {},
   "outputs": [
    {
     "data": {
      "text/plain": [
       "Property Damage Only Collision    136485\n",
       "Injury Collision                   58188\n",
       "Name: SEVERITYDESC, dtype: int64"
      ]
     },
     "execution_count": 45,
     "metadata": {},
     "output_type": "execute_result"
    }
   ],
   "source": [
    "df['SEVERITYDESC'].value_counts()"
   ]
  },
  {
   "cell_type": "code",
   "execution_count": 46,
   "metadata": {},
   "outputs": [],
   "source": [
    "import datetime as dt\n",
    "df['INCDTTM']=pd.to_datetime(df['INCDTTM'])\n",
    "df['year']=df['INCDTTM'].dt.year\n",
    "df['month']=df['INCDTTM'].dt.month\n",
    "df['hour']=df['INCDTTM'].dt.hour\n",
    "df['dayofweek']=df['INCDTTM'].dt.dayofweek\n",
    "\n"
   ]
  },
  {
   "cell_type": "code",
   "execution_count": 47,
   "metadata": {},
   "outputs": [
    {
     "data": {
      "text/plain": [
       "2004    11865\n",
       "2005    15115\n",
       "2006    15188\n",
       "2007    14456\n",
       "2008    13660\n",
       "2009    11734\n",
       "2010    10808\n",
       "2011    10919\n",
       "2012    10907\n",
       "2013    10577\n",
       "2014    11841\n",
       "2015    12995\n",
       "2016    11659\n",
       "2017    10873\n",
       "2018    10419\n",
       "2019     9412\n",
       "2020     2245\n",
       "Name: year, dtype: int64"
      ]
     },
     "execution_count": 47,
     "metadata": {},
     "output_type": "execute_result"
    }
   ],
   "source": [
    "df['year'].value_counts().sort_index()"
   ]
  },
  {
   "cell_type": "code",
   "execution_count": 48,
   "metadata": {},
   "outputs": [
    {
     "data": {
      "text/plain": [
       "1     16407\n",
       "2     14390\n",
       "3     16150\n",
       "4     15978\n",
       "5     16763\n",
       "6     16566\n",
       "7     16364\n",
       "8     16296\n",
       "9     15864\n",
       "10    17768\n",
       "11    16582\n",
       "12    15545\n",
       "Name: month, dtype: int64"
      ]
     },
     "execution_count": 48,
     "metadata": {},
     "output_type": "execute_result"
    }
   ],
   "source": [
    "df['month'].value_counts().sort_index()"
   ]
  },
  {
   "cell_type": "code",
   "execution_count": 49,
   "metadata": {},
   "outputs": [
    {
     "data": {
      "text/plain": [
       "0    26338\n",
       "1    28556\n",
       "2    28778\n",
       "3    29324\n",
       "4    32333\n",
       "5    27389\n",
       "6    21955\n",
       "Name: dayofweek, dtype: int64"
      ]
     },
     "execution_count": 49,
     "metadata": {},
     "output_type": "execute_result"
    }
   ],
   "source": [
    "df['dayofweek'].value_counts().sort_index()"
   ]
  },
  {
   "cell_type": "code",
   "execution_count": 50,
   "metadata": {},
   "outputs": [
    {
     "data": {
      "text/plain": [
       "SEVERITYDESC                    ROADCOND      \n",
       "Injury Collision                Dry               40064\n",
       "                                Wet               15755\n",
       "                                Unknown             749\n",
       "                                Ice                 273\n",
       "                                Snow/Slush          167\n",
       "                                Other                43\n",
       "                                Standing Water       30\n",
       "                                Oil                  24\n",
       "                                Sand/Mud/Dirt        23\n",
       "Property Damage Only Collision  Dry               84446\n",
       "                                Wet               31719\n",
       "                                Unknown           14329\n",
       "                                Ice                 936\n",
       "                                Snow/Slush          837\n",
       "                                Other                89\n",
       "                                Standing Water       85\n",
       "                                Sand/Mud/Dirt        52\n",
       "                                Oil                  40\n",
       "Name: ROADCOND, dtype: int64"
      ]
     },
     "execution_count": 50,
     "metadata": {},
     "output_type": "execute_result"
    }
   ],
   "source": [
    "df.groupby(['SEVERITYDESC'])['ROADCOND'].value_counts()"
   ]
  },
  {
   "cell_type": "code",
   "execution_count": 51,
   "metadata": {},
   "outputs": [
    {
     "data": {
      "text/plain": [
       "SEVERITYDESC                    LIGHTCOND               \n",
       "Injury Collision                Daylight                    38544\n",
       "                                Dark - Street Lights On     14475\n",
       "                                Dusk                         1944\n",
       "                                Dawn                          824\n",
       "                                Unknown                       605\n",
       "                                Dark - No Street Lights       334\n",
       "                                Dark - Street Lights Off      316\n",
       "                                Other                          52\n",
       "                                Dark - Unknown Lighting         4\n",
       "Property Damage Only Collision  Daylight                    77593\n",
       "                                Dark - Street Lights On     34032\n",
       "                                Unknown                     12868\n",
       "                                Dusk                         3958\n",
       "                                Dawn                         1678\n",
       "                                Dark - No Street Lights      1203\n",
       "                                Dark - Street Lights Off      883\n",
       "                                Other                         183\n",
       "                                Dark - Unknown Lighting         7\n",
       "Name: LIGHTCOND, dtype: int64"
      ]
     },
     "execution_count": 51,
     "metadata": {},
     "output_type": "execute_result"
    }
   ],
   "source": [
    "df.groupby(['SEVERITYDESC'])['LIGHTCOND'].value_counts()"
   ]
  },
  {
   "cell_type": "code",
   "execution_count": 52,
   "metadata": {},
   "outputs": [
    {
     "data": {
      "text/plain": [
       "SEVERITYDESC                    WEATHER                 \n",
       "Injury Collision                Clear                       35840\n",
       "                                Raining                     11176\n",
       "                                Overcast                     8745\n",
       "                                Unknown                       816\n",
       "                                Fog/Smog/Smoke                187\n",
       "                                Snowing                       171\n",
       "                                Other                         116\n",
       "                                Sleet/Hail/Freezing Rain       28\n",
       "                                Blowing Sand/Dirt              15\n",
       "                                Severe Crosswind                7\n",
       "                                Partly Cloudy                   3\n",
       "Property Damage Only Collision  Clear                       75295\n",
       "                                Raining                     21969\n",
       "                                Overcast                    18969\n",
       "                                Unknown                     14275\n",
       "                                Snowing                       736\n",
       "                                Other                         716\n",
       "                                Fog/Smog/Smoke                382\n",
       "                                Sleet/Hail/Freezing Rain       85\n",
       "                                Blowing Sand/Dirt              41\n",
       "                                Severe Crosswind               18\n",
       "                                Partly Cloudy                   2\n",
       "Name: WEATHER, dtype: int64"
      ]
     },
     "execution_count": 52,
     "metadata": {},
     "output_type": "execute_result"
    }
   ],
   "source": [
    "df.groupby(['SEVERITYDESC'])['WEATHER'].value_counts()"
   ]
  },
  {
   "cell_type": "code",
   "execution_count": 53,
   "metadata": {},
   "outputs": [
    {
     "data": {
      "text/plain": [
       "SEVERITYDESC                    UNDERINFL\n",
       "Injury Collision                N            30896\n",
       "                                0            22701\n",
       "                                Y             1939\n",
       "                                1             1623\n",
       "Property Damage Only Collision  N            69378\n",
       "                                0            57693\n",
       "                                Y             3187\n",
       "                                1             2372\n",
       "Name: UNDERINFL, dtype: int64"
      ]
     },
     "execution_count": 53,
     "metadata": {},
     "output_type": "execute_result"
    }
   ],
   "source": [
    "df.groupby(['SEVERITYDESC'])['UNDERINFL'].value_counts()"
   ]
  },
  {
   "cell_type": "code",
   "execution_count": 54,
   "metadata": {},
   "outputs": [
    {
     "data": {
      "text/plain": [
       "SEVERITYDESC                    dayofweek\n",
       "Injury Collision                4             9559\n",
       "                                3             9018\n",
       "                                2             8757\n",
       "                                1             8731\n",
       "                                5             8047\n",
       "                                0             7973\n",
       "                                6             6103\n",
       "Property Damage Only Collision  4            22774\n",
       "                                3            20306\n",
       "                                2            20021\n",
       "                                1            19825\n",
       "                                5            19342\n",
       "                                0            18365\n",
       "                                6            15852\n",
       "Name: dayofweek, dtype: int64"
      ]
     },
     "execution_count": 54,
     "metadata": {},
     "output_type": "execute_result"
    }
   ],
   "source": [
    "df.groupby(['SEVERITYDESC'])['dayofweek'].value_counts()"
   ]
  },
  {
   "cell_type": "code",
   "execution_count": 55,
   "metadata": {},
   "outputs": [
    {
     "data": {
      "text/plain": [
       "SEVERITYDESC                    hour\n",
       "Injury Collision                0        9252\n",
       "                                17       4498\n",
       "                                16       4012\n",
       "                                15       3741\n",
       "                                14       3370\n",
       "                                18       3332\n",
       "                                13       3085\n",
       "                                12       2986\n",
       "                                8        2692\n",
       "                                9        2410\n",
       "                                11       2401\n",
       "                                19       2287\n",
       "                                7        2154\n",
       "                                10       2139\n",
       "                                20       1750\n",
       "                                21       1617\n",
       "                                22       1525\n",
       "                                23       1109\n",
       "                                6        1017\n",
       "                                2         870\n",
       "                                1         831\n",
       "                                5         489\n",
       "                                3         349\n",
       "                                4         272\n",
       "Property Damage Only Collision  0       25129\n",
       "                                17       8449\n",
       "                                16       8110\n",
       "                                15       7773\n",
       "                                12       7398\n",
       "                                14       7245\n",
       "                                13       7134\n",
       "                                18       6411\n",
       "                                8        5878\n",
       "                                11       5808\n",
       "                                9        5642\n",
       "                                10       5326\n",
       "                                19       4969\n",
       "                                20       4486\n",
       "                                7        4389\n",
       "                                21       3954\n",
       "                                22       3943\n",
       "                                23       3502\n",
       "                                2        2736\n",
       "                                1        2577\n",
       "                                6        2182\n",
       "                                3        1316\n",
       "                                5        1178\n",
       "                                4         950\n",
       "Name: hour, dtype: int64"
      ]
     },
     "execution_count": 55,
     "metadata": {},
     "output_type": "execute_result"
    }
   ],
   "source": [
    "df.groupby(['SEVERITYDESC'])['hour'].value_counts()"
   ]
  },
  {
   "cell_type": "code",
   "execution_count": 56,
   "metadata": {},
   "outputs": [
    {
     "data": {
      "text/plain": [
       "SEVERITYDESC                    ST_COLDESC                                                                           \n",
       "Injury Collision                Entering at angle                                                                        13624\n",
       "                                From same direction - both going straight - one stopped - rear-end                       11368\n",
       "                                From opposite direction - one left turn - one straight                                    4631\n",
       "                                Vehicle - Pedalcyclist                                                                    4122\n",
       "                                Fixed object                                                                              3291\n",
       "                                From same direction - both going straight - both moving - rear-end                        3054\n",
       "                                Vehicle going straight hits pedestrian                                                    2567\n",
       "                                One parked--one moving                                                                    2145\n",
       "                                Vehicle turning left hits pedestrian                                                      2001\n",
       "                                From same direction - both going straight - both moving - sideswipe                       1761\n",
       "                                Vehicle turning right hits pedestrian                                                     1059\n",
       "                                From same direction - all others                                                           840\n",
       "                                From same direction - one left turn - one straight                                         731\n",
       "                                Vehicle overturned                                                                         620\n",
       "                                One car leaving driveway access                                                            614\n",
       "                                From same direction - one right turn - one straight                                        609\n",
       "                                One car entering driveway access                                                           549\n",
       "                                From opposite direction - all others                                                       448\n",
       "                                One car leaving parked position                                                            442\n",
       "                                From opposite direction - both moving - head-on                                            373\n",
       "                                Vehicle Strikes Pedalcyclist                                                               356\n",
       "                                From opposite direction - both going straight - sideswipe                                  282\n",
       "                                From same direction - both going straight - one stopped - sideswipe                        247\n",
       "                                Pedalcyclist Strikes Moving Vehicle                                                        228\n",
       "                                Vehicle backing hits pedestrian                                                            213\n",
       "                                Same direction -- both turning right -- one stopped -- rear end                            141\n",
       "                                Vehicle hits Pedestrian - All Other Actions                                                 96\n",
       "                                Same direction -- both turning right -- both moving -- sideswipe                            85\n",
       "                                One car entering parked position                                                            75\n",
       "                                Same direction -- both turning left -- both moving -- sideswipe                             69\n",
       "                                                                                                                         ...  \n",
       "Property Damage Only Collision  Railway Vehicle Strikes Vehicle                                                             82\n",
       "                                From opposite direction - one stopped - head-on                                             81\n",
       "                                All other non-collision                                                                     76\n",
       "                                Same direction -- both turning left -- both moving -- rear end                              65\n",
       "                                Same direction -- both turning right -- one stopped -- sideswipe                            65\n",
       "                                Same direction -- both turning left -- one stopped -- rear end                              62\n",
       "                                Vehicle Strikes Pedalcyclist                                                                60\n",
       "                                Vehicle Strikes Railway Vehicle                                                             44\n",
       "                                Vehicle Hits City Road or Construction Machinery                                            41\n",
       "                                Not stated                                                                                  37\n",
       "                                Same direction -- both turning left -- one stopped -- sideswipe                             33\n",
       "                                Domestic animal other (cat, dog, etc)                                                       30\n",
       "                                Pedalcyclist Strikes Moving Vehicle                                                         29\n",
       "                                Breakage of any part of the vehicle resulting in injury or in further property damage       25\n",
       "                                Vehicle backing hits pedestrian                                                             23\n",
       "                                Vehicle hits Pedestrian - All Other Actions                                                 15\n",
       "                                Vehicle Struck by City Road or Construction Machinery                                       11\n",
       "                                Railway Vehicle Strikes Pedestrian                                                           9\n",
       "                                Strikes or Was Struck by Object from the Load of Another Vehicle                             7\n",
       "                                Vehicle Hits Other Road or Construction Machinery                                            7\n",
       "                                Vehicle Struck by Other Road or Construction Machinery                                       7\n",
       "                                Fire started in vehicle                                                                      6\n",
       "                                Person fell, jumped or was pushed from vehicle                                               6\n",
       "                                All Other Multi Vehicle                                                                      5\n",
       "                                Strikes or Was Struck by a Part of Another Vehicle (Not from Load)                           5\n",
       "                                Pedalcyclist All Other Involvements ONE UNIT - PEDALCYCLIST ONLY or PEDALCYCLIST STR         2\n",
       "                                Railway Vehicle Strikes Pedalcyclist                                                         2\n",
       "                                Pedalcyclist Strikes Pedalcyclist or Pedestrian                                              1\n",
       "                                Vehicle Hits State Road or Construction Machinery                                            1\n",
       "                                Vehicle Strikes Deer                                                                         1\n",
       "Name: ST_COLDESC, Length: 117, dtype: int64"
      ]
     },
     "execution_count": 56,
     "metadata": {},
     "output_type": "execute_result"
    }
   ],
   "source": [
    "df.groupby(['SEVERITYDESC'])['ST_COLDESC'].value_counts()"
   ]
  },
  {
   "cell_type": "markdown",
   "metadata": {},
   "source": [
    "From the above preliminary analysis, we observe that:\n",
    "<ul class=\"a\">\n",
    "    <li>The number of accidents is showing a decreasing trend since 2015.</li>\n",
    "    <li>Road conditions, light conditions, weather conditions and sobriety of the driver do not seem to affect the number of accidents since the highest number of accidents seem to occur on dry roads, during daylight, in clear weather and when the driver is sober.</li>\n",
    "    <li>Most accidents seem to occur on Fridays (as dayofweek 0=Monday).</li>\n",
    "    <li>There seems to be a spike in accidents at 00 hours. This could be because a lot of accidents do not have the time of incident recorded, which are recorded by default as at 00 hours</li>\n",
    "    <li>Most accidents involving physical injury are caused due to vehicles entering at an angle, followed by those due to rear-ending while most accidents involving property damage are caused due to railway vehicles striking the vehicle or due to head-on collisions</li>\n"
   ]
  },
  {
   "cell_type": "code",
   "execution_count": null,
   "metadata": {},
   "outputs": [],
   "source": []
  },
  {
   "cell_type": "code",
   "execution_count": null,
   "metadata": {},
   "outputs": [],
   "source": []
  }
 ],
 "metadata": {
  "kernelspec": {
   "display_name": "Python 3",
   "language": "python",
   "name": "python3"
  },
  "language_info": {
   "codemirror_mode": {
    "name": "ipython",
    "version": 3
   },
   "file_extension": ".py",
   "mimetype": "text/x-python",
   "name": "python",
   "nbconvert_exporter": "python",
   "pygments_lexer": "ipython3",
   "version": "3.7.3"
  }
 },
 "nbformat": 4,
 "nbformat_minor": 2
}
